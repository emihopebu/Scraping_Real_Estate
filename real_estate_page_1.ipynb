{
 "cells": [
  {
   "cell_type": "markdown",
   "metadata": {},
   "source": [
    "### Imports"
   ]
  },
  {
   "cell_type": "code",
   "execution_count": 1,
   "metadata": {},
   "outputs": [],
   "source": [
    "from bs4 import BeautifulSoup\n",
    "import requests\n",
    "import pandas as pd"
   ]
  },
  {
   "cell_type": "markdown",
   "metadata": {},
   "source": [
    "### HTTP Request"
   ]
  },
  {
   "cell_type": "markdown",
   "metadata": {},
   "source": [
    "#### store website in variable"
   ]
  },
  {
   "cell_type": "code",
   "execution_count": 2,
   "metadata": {},
   "outputs": [],
   "source": [
    "website='https://www.trulia.com/CA/San_Francisco/'"
   ]
  },
  {
   "cell_type": "markdown",
   "metadata": {},
   "source": [
    "#### Get Request"
   ]
  },
  {
   "cell_type": "code",
   "execution_count": 3,
   "metadata": {},
   "outputs": [],
   "source": [
    "response=requests.get(website)"
   ]
  },
  {
   "cell_type": "markdown",
   "metadata": {},
   "source": [
    "#### Status Code"
   ]
  },
  {
   "cell_type": "code",
   "execution_count": 4,
   "metadata": {},
   "outputs": [
    {
     "data": {
      "text/plain": [
       "200"
      ]
     },
     "execution_count": 4,
     "metadata": {},
     "output_type": "execute_result"
    }
   ],
   "source": [
    "response.status_code"
   ]
  },
  {
   "cell_type": "markdown",
   "metadata": {},
   "source": [
    "### Soup Object"
   ]
  },
  {
   "cell_type": "code",
   "execution_count": 5,
   "metadata": {},
   "outputs": [],
   "source": [
    "soup=BeautifulSoup(response.content,'html.parser')"
   ]
  },
  {
   "cell_type": "code",
   "execution_count": 7,
   "metadata": {},
   "outputs": [],
   "source": [
    "#soup"
   ]
  },
  {
   "cell_type": "markdown",
   "metadata": {},
   "source": [
    "### Results"
   ]
  },
  {
   "cell_type": "code",
   "execution_count": 10,
   "metadata": {},
   "outputs": [],
   "source": [
    "results=soup.findAll('li',{'class':'SearchResultsList__WideCell-b7y9ki-2'})"
   ]
  },
  {
   "cell_type": "code",
   "execution_count": 12,
   "metadata": {},
   "outputs": [
    {
     "data": {
      "text/plain": [
       "42"
      ]
     },
     "execution_count": 12,
     "metadata": {},
     "output_type": "execute_result"
    }
   ],
   "source": [
    "len(results)"
   ]
  },
  {
   "cell_type": "markdown",
   "metadata": {},
   "source": [
    "### Update Results"
   ]
  },
  {
   "cell_type": "markdown",
   "metadata": {},
   "source": [
    "we just want to target the elements which have the attribute 'data-testid'"
   ]
  },
  {
   "cell_type": "code",
   "execution_count": 13,
   "metadata": {},
   "outputs": [],
   "source": [
    "results_update=[]"
   ]
  },
  {
   "cell_type": "code",
   "execution_count": 16,
   "metadata": {},
   "outputs": [],
   "source": [
    "for r in results:\n",
    "    if r.has_attr('data-testid'):\n",
    "        results_update.append(r)\n",
    "    "
   ]
  },
  {
   "cell_type": "code",
   "execution_count": 17,
   "metadata": {},
   "outputs": [
    {
     "data": {
      "text/plain": [
       "40"
      ]
     },
     "execution_count": 17,
     "metadata": {},
     "output_type": "execute_result"
    }
   ],
   "source": [
    "len(results_update)"
   ]
  },
  {
   "cell_type": "markdown",
   "metadata": {},
   "source": [
    "### Target necessary data"
   ]
  },
  {
   "cell_type": "code",
   "execution_count": 23,
   "metadata": {},
   "outputs": [],
   "source": [
    "# Address\n",
    "# Bedrooms\n",
    "# Bathrooms\n",
    "# Floorspace\n",
    "# Price"
   ]
  },
  {
   "cell_type": "markdown",
   "metadata": {},
   "source": [
    "#### Address"
   ]
  },
  {
   "cell_type": "code",
   "execution_count": 22,
   "metadata": {},
   "outputs": [
    {
     "data": {
      "text/plain": [
       "'301 Main St #12H, San Francisco, CA 94105'"
      ]
     },
     "execution_count": 22,
     "metadata": {},
     "output_type": "execute_result"
    }
   ],
   "source": [
    "results_update[33].find('div',{'data-testid':'property-address'}).get_text()"
   ]
  },
  {
   "cell_type": "markdown",
   "metadata": {},
   "source": [
    "#### Bedrooms"
   ]
  },
  {
   "cell_type": "code",
   "execution_count": 23,
   "metadata": {},
   "outputs": [
    {
     "data": {
      "text/plain": [
       "'3bd'"
      ]
     },
     "execution_count": 23,
     "metadata": {},
     "output_type": "execute_result"
    }
   ],
   "source": [
    "results_update[1].find('div',{'data-testid':'property-beds'}).get_text()"
   ]
  },
  {
   "cell_type": "markdown",
   "metadata": {},
   "source": [
    "#### Bathrooms"
   ]
  },
  {
   "cell_type": "code",
   "execution_count": 24,
   "metadata": {},
   "outputs": [
    {
     "data": {
      "text/plain": [
       "'2ba'"
      ]
     },
     "execution_count": 24,
     "metadata": {},
     "output_type": "execute_result"
    }
   ],
   "source": [
    "results_update[1].find('div',{'data-testid':'property-baths'}).get_text()"
   ]
  },
  {
   "cell_type": "markdown",
   "metadata": {},
   "source": [
    "#### Floorspace"
   ]
  },
  {
   "cell_type": "code",
   "execution_count": 25,
   "metadata": {},
   "outputs": [
    {
     "data": {
      "text/plain": [
       "'1,878 sqft'"
      ]
     },
     "execution_count": 25,
     "metadata": {},
     "output_type": "execute_result"
    }
   ],
   "source": [
    "results_update[1].find('div',{'data-testid':'property-floorSpace'}).get_text()"
   ]
  },
  {
   "cell_type": "markdown",
   "metadata": {},
   "source": [
    "#### Price"
   ]
  },
  {
   "cell_type": "code",
   "execution_count": 26,
   "metadata": {},
   "outputs": [
    {
     "data": {
      "text/plain": [
       "'$1,395,000'"
      ]
     },
     "execution_count": 26,
     "metadata": {},
     "output_type": "execute_result"
    }
   ],
   "source": [
    "results_update[1].find('div',{'data-testid':'property-price'}).get_text()"
   ]
  },
  {
   "cell_type": "markdown",
   "metadata": {},
   "source": [
    "### Append all Results in Lists with List Comprehension"
   ]
  },
  {
   "cell_type": "code",
   "execution_count": 49,
   "metadata": {},
   "outputs": [],
   "source": [
    "addresses=[result.find('div',{'data-testid':'property-address'}).get_text() for result in results_update]\n",
    "bedrooms=[result.find('div',{'data-testid':'property-beds'}).get_text() for result in results_update]\n",
    "bathrooms=[result.find('div',{'data-testid':'property-baths'}).get_text() for result in results_update]\n",
    "floorspace=[]\n",
    "for result in results_update:\n",
    "    try:\n",
    "        floorspace.append(result.find('div',{'data-testid':'property-floorSpace'}).get_text())\n",
    "    except:\n",
    "        floorspace.append('n/a')\n",
    "prices=[result.find('div',{'data-testid':'property-price'}).get_text() for result in results_update]"
   ]
  },
  {
   "cell_type": "markdown",
   "metadata": {},
   "source": [
    "### Create Pandas Dataframe"
   ]
  },
  {
   "cell_type": "code",
   "execution_count": 51,
   "metadata": {},
   "outputs": [],
   "source": [
    "real_estate=pd.DataFrame({'Address':addresses,'Beds':bedrooms,'Baths':bathrooms,'Floorspace':floorspace, 'Price':prices})"
   ]
  },
  {
   "cell_type": "code",
   "execution_count": 52,
   "metadata": {},
   "outputs": [
    {
     "data": {
      "text/html": [
       "<div>\n",
       "<style scoped>\n",
       "    .dataframe tbody tr th:only-of-type {\n",
       "        vertical-align: middle;\n",
       "    }\n",
       "\n",
       "    .dataframe tbody tr th {\n",
       "        vertical-align: top;\n",
       "    }\n",
       "\n",
       "    .dataframe thead th {\n",
       "        text-align: right;\n",
       "    }\n",
       "</style>\n",
       "<table border=\"1\" class=\"dataframe\">\n",
       "  <thead>\n",
       "    <tr style=\"text-align: right;\">\n",
       "      <th></th>\n",
       "      <th>Address</th>\n",
       "      <th>Beds</th>\n",
       "      <th>Baths</th>\n",
       "      <th>Floorspace</th>\n",
       "      <th>Price</th>\n",
       "    </tr>\n",
       "  </thead>\n",
       "  <tbody>\n",
       "    <tr>\n",
       "      <th>0</th>\n",
       "      <td>2026 47th Ave, San Francisco, CA 94116</td>\n",
       "      <td>3bd</td>\n",
       "      <td>2ba</td>\n",
       "      <td>1,224 sqft</td>\n",
       "      <td>$995,000</td>\n",
       "    </tr>\n",
       "    <tr>\n",
       "      <th>1</th>\n",
       "      <td>2267 25th Ave, San Francisco, CA 94116</td>\n",
       "      <td>3bd</td>\n",
       "      <td>2ba</td>\n",
       "      <td>1,878 sqft</td>\n",
       "      <td>$1,395,000</td>\n",
       "    </tr>\n",
       "    <tr>\n",
       "      <th>2</th>\n",
       "      <td>1350 27th Ave, San Francisco, CA 94122</td>\n",
       "      <td>3bd</td>\n",
       "      <td>2ba</td>\n",
       "      <td>2,198 sqft</td>\n",
       "      <td>$1,195,000</td>\n",
       "    </tr>\n",
       "    <tr>\n",
       "      <th>3</th>\n",
       "      <td>134-136 Hartford St, San Francisco, CA 94114</td>\n",
       "      <td>2bd</td>\n",
       "      <td>2ba</td>\n",
       "      <td>2,000 sqft</td>\n",
       "      <td>$895,000</td>\n",
       "    </tr>\n",
       "    <tr>\n",
       "      <th>4</th>\n",
       "      <td>459 Ashbury St, San Francisco, CA 94117</td>\n",
       "      <td>5bd</td>\n",
       "      <td>6ba</td>\n",
       "      <td>4,270 sqft</td>\n",
       "      <td>$4,995,000</td>\n",
       "    </tr>\n",
       "    <tr>\n",
       "      <th>5</th>\n",
       "      <td>1125 Vicente St, San Francisco, CA 94116</td>\n",
       "      <td>3bd</td>\n",
       "      <td>2ba</td>\n",
       "      <td>2,018 sqft</td>\n",
       "      <td>$998,000</td>\n",
       "    </tr>\n",
       "    <tr>\n",
       "      <th>6</th>\n",
       "      <td>1226 44th Ave, San Francisco, CA 94122</td>\n",
       "      <td>4bd</td>\n",
       "      <td>3ba</td>\n",
       "      <td>1,915 sqft</td>\n",
       "      <td>$1,195,000</td>\n",
       "    </tr>\n",
       "    <tr>\n",
       "      <th>7</th>\n",
       "      <td>2826 Union St, San Francisco, CA 94123</td>\n",
       "      <td>4bd</td>\n",
       "      <td>5ba</td>\n",
       "      <td>3,915 sqft</td>\n",
       "      <td>$4,850,000</td>\n",
       "    </tr>\n",
       "    <tr>\n",
       "      <th>8</th>\n",
       "      <td>338 Potrero Ave #304, San Francisco, CA 94103</td>\n",
       "      <td>2bd</td>\n",
       "      <td>2ba</td>\n",
       "      <td>832 sqft</td>\n",
       "      <td>$354,457</td>\n",
       "    </tr>\n",
       "    <tr>\n",
       "      <th>9</th>\n",
       "      <td>1445 14th Ave, San Francisco, CA 94122</td>\n",
       "      <td>3bd</td>\n",
       "      <td>2ba</td>\n",
       "      <td>1,800 sqft</td>\n",
       "      <td>$1,795,000</td>\n",
       "    </tr>\n",
       "    <tr>\n",
       "      <th>10</th>\n",
       "      <td>70 Rockridge Dr, San Francisco, CA 94116</td>\n",
       "      <td>2bd</td>\n",
       "      <td>2ba</td>\n",
       "      <td>1,546 sqft</td>\n",
       "      <td>$1,150,000</td>\n",
       "    </tr>\n",
       "    <tr>\n",
       "      <th>11</th>\n",
       "      <td>90 Valmar Ter, San Francisco, CA 94112</td>\n",
       "      <td>4bd</td>\n",
       "      <td>3ba</td>\n",
       "      <td>2,200 sqft</td>\n",
       "      <td>$1,395,000</td>\n",
       "    </tr>\n",
       "    <tr>\n",
       "      <th>12</th>\n",
       "      <td>218 Richland Ave, San Francisco, CA 94110</td>\n",
       "      <td>4bd</td>\n",
       "      <td>4ba</td>\n",
       "      <td>2,484 sqft</td>\n",
       "      <td>$2,395,000</td>\n",
       "    </tr>\n",
       "    <tr>\n",
       "      <th>13</th>\n",
       "      <td>160 Sea Cliff Ave, San Francisco, CA 94121</td>\n",
       "      <td>5bd</td>\n",
       "      <td>6ba</td>\n",
       "      <td>5,930 sqft</td>\n",
       "      <td>$15,950,000</td>\n",
       "    </tr>\n",
       "    <tr>\n",
       "      <th>14</th>\n",
       "      <td>31 Page St #201, San Francisco, CA 94102</td>\n",
       "      <td>2bd</td>\n",
       "      <td>1ba</td>\n",
       "      <td>882 sqft</td>\n",
       "      <td>$315,047</td>\n",
       "    </tr>\n",
       "    <tr>\n",
       "      <th>15</th>\n",
       "      <td>4727 25th St, San Francisco, CA 94114</td>\n",
       "      <td>3bd</td>\n",
       "      <td>2ba</td>\n",
       "      <td>1,270 sqft</td>\n",
       "      <td>$1,845,000</td>\n",
       "    </tr>\n",
       "    <tr>\n",
       "      <th>16</th>\n",
       "      <td>1018 Shrader St, San Francisco, CA 94117</td>\n",
       "      <td>3bd</td>\n",
       "      <td>2ba</td>\n",
       "      <td>2,010 sqft</td>\n",
       "      <td>$2,350,000</td>\n",
       "    </tr>\n",
       "    <tr>\n",
       "      <th>17</th>\n",
       "      <td>424 Grafton Ave, San Francisco, CA 94112</td>\n",
       "      <td>4bd</td>\n",
       "      <td>2ba</td>\n",
       "      <td>1,382 sqft</td>\n",
       "      <td>$998,000</td>\n",
       "    </tr>\n",
       "    <tr>\n",
       "      <th>18</th>\n",
       "      <td>2613 Post St, San Francisco, CA 94115</td>\n",
       "      <td>2bd</td>\n",
       "      <td>2ba</td>\n",
       "      <td>1,125 sqft</td>\n",
       "      <td>$1,395,000</td>\n",
       "    </tr>\n",
       "    <tr>\n",
       "      <th>19</th>\n",
       "      <td>111 States St, San Francisco, CA 94114</td>\n",
       "      <td>3bd</td>\n",
       "      <td>3ba</td>\n",
       "      <td>1,794 sqft</td>\n",
       "      <td>$1,995,000</td>\n",
       "    </tr>\n",
       "    <tr>\n",
       "      <th>20</th>\n",
       "      <td>1701 Noe St, San Francisco, CA 94131</td>\n",
       "      <td>3bd</td>\n",
       "      <td>3ba</td>\n",
       "      <td>1,890 sqft</td>\n",
       "      <td>$2,195,000</td>\n",
       "    </tr>\n",
       "    <tr>\n",
       "      <th>21</th>\n",
       "      <td>227 Central Ave, San Francisco, CA 94117</td>\n",
       "      <td>4bd</td>\n",
       "      <td>4ba</td>\n",
       "      <td>2,830 sqft</td>\n",
       "      <td>$3,295,000</td>\n",
       "    </tr>\n",
       "    <tr>\n",
       "      <th>22</th>\n",
       "      <td>237 Greenwich St, San Francisco, CA 94133</td>\n",
       "      <td>1bd</td>\n",
       "      <td>1ba</td>\n",
       "      <td>n/a</td>\n",
       "      <td>$585,000</td>\n",
       "    </tr>\n",
       "    <tr>\n",
       "      <th>23</th>\n",
       "      <td>1336 4th Ave, San Francisco, CA 94122</td>\n",
       "      <td>5bd</td>\n",
       "      <td>5ba</td>\n",
       "      <td>3,512 sqft</td>\n",
       "      <td>$3,800,000</td>\n",
       "    </tr>\n",
       "    <tr>\n",
       "      <th>24</th>\n",
       "      <td>671 5th Ave, San Francisco, CA 94118</td>\n",
       "      <td>5bd</td>\n",
       "      <td>3ba</td>\n",
       "      <td>2,500 sqft</td>\n",
       "      <td>$2,250,000</td>\n",
       "    </tr>\n",
       "    <tr>\n",
       "      <th>25</th>\n",
       "      <td>200 Brannan St #340, San Francisco, CA 94107</td>\n",
       "      <td>2bd</td>\n",
       "      <td>2ba</td>\n",
       "      <td>1,522 sqft</td>\n",
       "      <td>$1,495,000</td>\n",
       "    </tr>\n",
       "    <tr>\n",
       "      <th>26</th>\n",
       "      <td>196 Avila St, San Francisco, CA 94123</td>\n",
       "      <td>3bd</td>\n",
       "      <td>4ba</td>\n",
       "      <td>3,335 sqft</td>\n",
       "      <td>$6,195,000</td>\n",
       "    </tr>\n",
       "    <tr>\n",
       "      <th>27</th>\n",
       "      <td>68 Glenview Dr, San Francisco, CA 94131</td>\n",
       "      <td>4bd</td>\n",
       "      <td>3ba</td>\n",
       "      <td>1,829 sqft</td>\n",
       "      <td>$1,595,000</td>\n",
       "    </tr>\n",
       "    <tr>\n",
       "      <th>28</th>\n",
       "      <td>147-149 Caledonia St, San Francisco, CA 94103</td>\n",
       "      <td>4bd</td>\n",
       "      <td>2ba</td>\n",
       "      <td>1,824 sqft</td>\n",
       "      <td>$898,000</td>\n",
       "    </tr>\n",
       "    <tr>\n",
       "      <th>29</th>\n",
       "      <td>2323 14th Ave, San Francisco, CA 94116</td>\n",
       "      <td>5bd</td>\n",
       "      <td>3ba</td>\n",
       "      <td>2,957 sqft</td>\n",
       "      <td>$2,195,000</td>\n",
       "    </tr>\n",
       "    <tr>\n",
       "      <th>30</th>\n",
       "      <td>3028 Clay St, San Francisco, CA 94115</td>\n",
       "      <td>4bd</td>\n",
       "      <td>4ba</td>\n",
       "      <td>n/a</td>\n",
       "      <td>$4,995,000</td>\n",
       "    </tr>\n",
       "    <tr>\n",
       "      <th>31</th>\n",
       "      <td>50 N Willard St, San Francisco, CA 94118</td>\n",
       "      <td>2bd</td>\n",
       "      <td>1ba</td>\n",
       "      <td>1,637 sqft</td>\n",
       "      <td>$1,700,000</td>\n",
       "    </tr>\n",
       "    <tr>\n",
       "      <th>32</th>\n",
       "      <td>1688 Pine St #E601, San Francisco, CA 94109</td>\n",
       "      <td>2bd</td>\n",
       "      <td>2ba</td>\n",
       "      <td>889 sqft</td>\n",
       "      <td>$1,289,000</td>\n",
       "    </tr>\n",
       "    <tr>\n",
       "      <th>33</th>\n",
       "      <td>301 Main St #12H, San Francisco, CA 94105</td>\n",
       "      <td>2bd</td>\n",
       "      <td>2ba</td>\n",
       "      <td>1,317 sqft</td>\n",
       "      <td>$1,495,000</td>\n",
       "    </tr>\n",
       "    <tr>\n",
       "      <th>34</th>\n",
       "      <td>1395 Lyon St #2, San Francisco, CA 94115</td>\n",
       "      <td>1bd</td>\n",
       "      <td>1ba</td>\n",
       "      <td>552 sqft</td>\n",
       "      <td>$680,000</td>\n",
       "    </tr>\n",
       "    <tr>\n",
       "      <th>35</th>\n",
       "      <td>978 Le Conte Ave, San Francisco, CA 94124</td>\n",
       "      <td>2bd</td>\n",
       "      <td>1ba</td>\n",
       "      <td>790 sqft</td>\n",
       "      <td>$699,000</td>\n",
       "    </tr>\n",
       "    <tr>\n",
       "      <th>36</th>\n",
       "      <td>2267 19th Ave, San Francisco, CA 94116</td>\n",
       "      <td>2bd</td>\n",
       "      <td>1ba</td>\n",
       "      <td>1,407 sqft</td>\n",
       "      <td>$1,220,000</td>\n",
       "    </tr>\n",
       "    <tr>\n",
       "      <th>37</th>\n",
       "      <td>2576 Diamond St, San Francisco, CA 94131</td>\n",
       "      <td>2bd</td>\n",
       "      <td>1ba</td>\n",
       "      <td>n/a</td>\n",
       "      <td>$1,450,000</td>\n",
       "    </tr>\n",
       "    <tr>\n",
       "      <th>38</th>\n",
       "      <td>2016 Pacific Ave #405, San Francisco, CA 94109</td>\n",
       "      <td>2bd</td>\n",
       "      <td>3ba</td>\n",
       "      <td>1,470 sqft</td>\n",
       "      <td>$1,795,000</td>\n",
       "    </tr>\n",
       "    <tr>\n",
       "      <th>39</th>\n",
       "      <td>307 Page St #5, San Francisco, CA 94102</td>\n",
       "      <td>2bd</td>\n",
       "      <td>1ba</td>\n",
       "      <td>923 sqft</td>\n",
       "      <td>$1,195,000</td>\n",
       "    </tr>\n",
       "  </tbody>\n",
       "</table>\n",
       "</div>"
      ],
      "text/plain": [
       "                                           Address Beds Baths  Floorspace  \\\n",
       "0           2026 47th Ave, San Francisco, CA 94116  3bd   2ba  1,224 sqft   \n",
       "1           2267 25th Ave, San Francisco, CA 94116  3bd   2ba  1,878 sqft   \n",
       "2           1350 27th Ave, San Francisco, CA 94122  3bd   2ba  2,198 sqft   \n",
       "3     134-136 Hartford St, San Francisco, CA 94114  2bd   2ba  2,000 sqft   \n",
       "4          459 Ashbury St, San Francisco, CA 94117  5bd   6ba  4,270 sqft   \n",
       "5         1125 Vicente St, San Francisco, CA 94116  3bd   2ba  2,018 sqft   \n",
       "6           1226 44th Ave, San Francisco, CA 94122  4bd   3ba  1,915 sqft   \n",
       "7           2826 Union St, San Francisco, CA 94123  4bd   5ba  3,915 sqft   \n",
       "8    338 Potrero Ave #304, San Francisco, CA 94103  2bd   2ba    832 sqft   \n",
       "9           1445 14th Ave, San Francisco, CA 94122  3bd   2ba  1,800 sqft   \n",
       "10        70 Rockridge Dr, San Francisco, CA 94116  2bd   2ba  1,546 sqft   \n",
       "11          90 Valmar Ter, San Francisco, CA 94112  4bd   3ba  2,200 sqft   \n",
       "12       218 Richland Ave, San Francisco, CA 94110  4bd   4ba  2,484 sqft   \n",
       "13      160 Sea Cliff Ave, San Francisco, CA 94121  5bd   6ba  5,930 sqft   \n",
       "14        31 Page St #201, San Francisco, CA 94102  2bd   1ba    882 sqft   \n",
       "15           4727 25th St, San Francisco, CA 94114  3bd   2ba  1,270 sqft   \n",
       "16        1018 Shrader St, San Francisco, CA 94117  3bd   2ba  2,010 sqft   \n",
       "17        424 Grafton Ave, San Francisco, CA 94112  4bd   2ba  1,382 sqft   \n",
       "18           2613 Post St, San Francisco, CA 94115  2bd   2ba  1,125 sqft   \n",
       "19          111 States St, San Francisco, CA 94114  3bd   3ba  1,794 sqft   \n",
       "20            1701 Noe St, San Francisco, CA 94131  3bd   3ba  1,890 sqft   \n",
       "21        227 Central Ave, San Francisco, CA 94117  4bd   4ba  2,830 sqft   \n",
       "22       237 Greenwich St, San Francisco, CA 94133  1bd   1ba         n/a   \n",
       "23           1336 4th Ave, San Francisco, CA 94122  5bd   5ba  3,512 sqft   \n",
       "24            671 5th Ave, San Francisco, CA 94118  5bd   3ba  2,500 sqft   \n",
       "25    200 Brannan St #340, San Francisco, CA 94107  2bd   2ba  1,522 sqft   \n",
       "26           196 Avila St, San Francisco, CA 94123  3bd   4ba  3,335 sqft   \n",
       "27         68 Glenview Dr, San Francisco, CA 94131  4bd   3ba  1,829 sqft   \n",
       "28   147-149 Caledonia St, San Francisco, CA 94103  4bd   2ba  1,824 sqft   \n",
       "29          2323 14th Ave, San Francisco, CA 94116  5bd   3ba  2,957 sqft   \n",
       "30           3028 Clay St, San Francisco, CA 94115  4bd   4ba         n/a   \n",
       "31        50 N Willard St, San Francisco, CA 94118  2bd   1ba  1,637 sqft   \n",
       "32     1688 Pine St #E601, San Francisco, CA 94109  2bd   2ba    889 sqft   \n",
       "33       301 Main St #12H, San Francisco, CA 94105  2bd   2ba  1,317 sqft   \n",
       "34        1395 Lyon St #2, San Francisco, CA 94115  1bd   1ba    552 sqft   \n",
       "35       978 Le Conte Ave, San Francisco, CA 94124  2bd   1ba    790 sqft   \n",
       "36          2267 19th Ave, San Francisco, CA 94116  2bd   1ba  1,407 sqft   \n",
       "37        2576 Diamond St, San Francisco, CA 94131  2bd   1ba         n/a   \n",
       "38  2016 Pacific Ave #405, San Francisco, CA 94109  2bd   3ba  1,470 sqft   \n",
       "39         307 Page St #5, San Francisco, CA 94102  2bd   1ba    923 sqft   \n",
       "\n",
       "          Price  \n",
       "0      $995,000  \n",
       "1    $1,395,000  \n",
       "2    $1,195,000  \n",
       "3      $895,000  \n",
       "4    $4,995,000  \n",
       "5      $998,000  \n",
       "6    $1,195,000  \n",
       "7    $4,850,000  \n",
       "8      $354,457  \n",
       "9    $1,795,000  \n",
       "10   $1,150,000  \n",
       "11   $1,395,000  \n",
       "12   $2,395,000  \n",
       "13  $15,950,000  \n",
       "14     $315,047  \n",
       "15   $1,845,000  \n",
       "16   $2,350,000  \n",
       "17     $998,000  \n",
       "18   $1,395,000  \n",
       "19   $1,995,000  \n",
       "20   $2,195,000  \n",
       "21   $3,295,000  \n",
       "22     $585,000  \n",
       "23   $3,800,000  \n",
       "24   $2,250,000  \n",
       "25   $1,495,000  \n",
       "26   $6,195,000  \n",
       "27   $1,595,000  \n",
       "28     $898,000  \n",
       "29   $2,195,000  \n",
       "30   $4,995,000  \n",
       "31   $1,700,000  \n",
       "32   $1,289,000  \n",
       "33   $1,495,000  \n",
       "34     $680,000  \n",
       "35     $699,000  \n",
       "36   $1,220,000  \n",
       "37   $1,450,000  \n",
       "38   $1,795,000  \n",
       "39   $1,195,000  "
      ]
     },
     "execution_count": 52,
     "metadata": {},
     "output_type": "execute_result"
    }
   ],
   "source": [
    "real_estate"
   ]
  },
  {
   "cell_type": "markdown",
   "metadata": {},
   "source": [
    "### Output in Excel"
   ]
  },
  {
   "cell_type": "code",
   "execution_count": 53,
   "metadata": {},
   "outputs": [],
   "source": [
    "real_estate.to_excel('real_estate_page_1.xlsx', index=False)"
   ]
  }
 ],
 "metadata": {
  "kernelspec": {
   "display_name": "Python 3",
   "language": "python",
   "name": "python3"
  },
  "language_info": {
   "codemirror_mode": {
    "name": "ipython",
    "version": 3
   },
   "file_extension": ".py",
   "mimetype": "text/x-python",
   "name": "python",
   "nbconvert_exporter": "python",
   "pygments_lexer": "ipython3",
   "version": "3.8.8"
  }
 },
 "nbformat": 4,
 "nbformat_minor": 4
}
